{
  "nbformat": 4,
  "nbformat_minor": 0,
  "metadata": {
    "colab": {
      "name": "Lecture 15",
      "provenance": [],
      "collapsed_sections": [],
      "authorship_tag": "ABX9TyNqpMPkAzCKjm1Ql0G013YS",
      "include_colab_link": true
    },
    "kernelspec": {
      "name": "python3",
      "display_name": "Python 3"
    },
    "language_info": {
      "name": "python"
    }
  },
  "cells": [
    {
      "cell_type": "markdown",
      "metadata": {
        "id": "view-in-github",
        "colab_type": "text"
      },
      "source": [
        "<a href=\"https://colab.research.google.com/github/niccolomarastoni/lecture_15/blob/main/Lecture_15.ipynb\" target=\"_parent\"><img src=\"https://colab.research.google.com/assets/colab-badge.svg\" alt=\"Open In Colab\"/></a>"
      ]
    },
    {
      "cell_type": "code",
      "execution_count": null,
      "metadata": {
        "id": "ugCYyK3kADEi"
      },
      "outputs": [],
      "source": [
        "#github class"
      ]
    },
    {
      "cell_type": "markdown",
      "source": [
        "[link text](https://)"
      ],
      "metadata": {
        "id": "dTdRzyn2DXiQ"
      }
    },
    {
      "cell_type": "code",
      "source": [
        "def a_simple_function(x):\n",
        "    return x + 1"
      ],
      "metadata": {
        "id": "RZk06fGxDcCp"
      },
      "execution_count": 1,
      "outputs": []
    },
    {
      "cell_type": "code",
      "source": [
        "a_simple_function(2)"
      ],
      "metadata": {
        "colab": {
          "base_uri": "https://localhost:8080/"
        },
        "id": "GwYEn0yMFXx5",
        "outputId": "b305473d-ecb2-4b02-b401-7a479bc3791a"
      },
      "execution_count": 2,
      "outputs": [
        {
          "output_type": "execute_result",
          "data": {
            "text/plain": [
              "3"
            ]
          },
          "metadata": {},
          "execution_count": 2
        }
      ]
    },
    {
      "cell_type": "code",
      "source": [
        ""
      ],
      "metadata": {
        "id": "qRTkXwMyFatL"
      },
      "execution_count": null,
      "outputs": []
    }
  ]
}