{
  "nbformat": 4,
  "nbformat_minor": 0,
  "metadata": {
    "colab": {
      "name": "Lecture 15",
      "provenance": [],
      "collapsed_sections": [],
      "authorship_tag": "ABX9TyNtYvAOxR8kc5BFNuG1TgQi",
      "include_colab_link": true
    },
    "kernelspec": {
      "name": "python3",
      "display_name": "Python 3"
    },
    "language_info": {
      "name": "python"
    }
  },
  "cells": [
    {
      "cell_type": "markdown",
      "metadata": {
        "id": "view-in-github",
        "colab_type": "text"
      },
      "source": [
        "<a href=\"https://colab.research.google.com/github/niccolomarastoni/lecture_15/blob/main/Lecture_15.ipynb\" target=\"_parent\"><img src=\"https://colab.research.google.com/assets/colab-badge.svg\" alt=\"Open In Colab\"/></a>"
      ]
    },
    {
      "cell_type": "code",
      "execution_count": null,
      "metadata": {
        "id": "ugCYyK3kADEi"
      },
      "outputs": [],
      "source": [
        "#github class"
      ]
    },
    {
      "cell_type": "markdown",
      "source": [
        "[link text](https://)"
      ],
      "metadata": {
        "id": "dTdRzyn2DXiQ"
      }
    },
    {
      "cell_type": "code",
      "source": [
        ""
      ],
      "metadata": {
        "id": "RZk06fGxDcCp"
      },
      "execution_count": null,
      "outputs": []
    }
  ]
}